{
 "cells": [
  {
   "cell_type": "code",
   "execution_count": 48,
   "metadata": {},
   "outputs": [
    {
     "name": "stdout",
     "output_type": "stream",
     "text": [
      "Requirement already satisfied: pyautogui in /Users/gauravgiri/Developer/computer-club/automation-workshop/venv/lib/python3.9/site-packages (0.9.54)\n",
      "Requirement already satisfied: pygetwindow>=0.0.5 in /Users/gauravgiri/Developer/computer-club/automation-workshop/venv/lib/python3.9/site-packages (from pyautogui) (0.0.9)\n",
      "Requirement already satisfied: pytweening>=1.0.4 in /Users/gauravgiri/Developer/computer-club/automation-workshop/venv/lib/python3.9/site-packages (from pyautogui) (1.2.0)\n",
      "Requirement already satisfied: mouseinfo in /Users/gauravgiri/Developer/computer-club/automation-workshop/venv/lib/python3.9/site-packages (from pyautogui) (0.1.3)\n",
      "Requirement already satisfied: pyscreeze>=0.1.21 in /Users/gauravgiri/Developer/computer-club/automation-workshop/venv/lib/python3.9/site-packages (from pyautogui) (0.1.30)\n",
      "Requirement already satisfied: pymsgbox in /Users/gauravgiri/Developer/computer-club/automation-workshop/venv/lib/python3.9/site-packages (from pyautogui) (1.0.9)\n",
      "Requirement already satisfied: pyobjc-core in /Users/gauravgiri/Developer/computer-club/automation-workshop/venv/lib/python3.9/site-packages (from pyautogui) (10.2)\n",
      "Requirement already satisfied: pyobjc-framework-quartz in /Users/gauravgiri/Developer/computer-club/automation-workshop/venv/lib/python3.9/site-packages (from pyautogui) (10.2)\n",
      "Requirement already satisfied: pyrect in /Users/gauravgiri/Developer/computer-club/automation-workshop/venv/lib/python3.9/site-packages (from pygetwindow>=0.0.5->pyautogui) (0.2.0)\n",
      "Requirement already satisfied: Pillow>=9.2.0 in /Users/gauravgiri/Developer/computer-club/automation-workshop/venv/lib/python3.9/site-packages (from pyscreeze>=0.1.21->pyautogui) (10.3.0)\n",
      "Requirement already satisfied: pyperclip in /Users/gauravgiri/Developer/computer-club/automation-workshop/venv/lib/python3.9/site-packages (from mouseinfo->pyautogui) (1.8.2)\n",
      "Requirement already satisfied: rubicon-objc in /Users/gauravgiri/Developer/computer-club/automation-workshop/venv/lib/python3.9/site-packages (from mouseinfo->pyautogui) (0.4.9)\n",
      "Requirement already satisfied: pyobjc-framework-Cocoa>=10.2 in /Users/gauravgiri/Developer/computer-club/automation-workshop/venv/lib/python3.9/site-packages (from pyobjc-framework-quartz->pyautogui) (10.2)\n",
      "\u001b[33mWARNING: You are using pip version 21.2.4; however, version 24.0 is available.\n",
      "You should consider upgrading via the '/Users/gauravgiri/Developer/computer-club/automation-workshop/venv/bin/python -m pip install --upgrade pip' command.\u001b[0m\n",
      "Note: you may need to restart the kernel to use updated packages.\n",
      "Requirement already satisfied: pyscreeze in /Users/gauravgiri/Developer/computer-club/automation-workshop/venv/lib/python3.9/site-packages (0.1.30)\n",
      "Requirement already satisfied: Pillow>=9.2.0 in /Users/gauravgiri/Developer/computer-club/automation-workshop/venv/lib/python3.9/site-packages (from pyscreeze) (10.3.0)\n",
      "\u001b[33mWARNING: You are using pip version 21.2.4; however, version 24.0 is available.\n",
      "You should consider upgrading via the '/Users/gauravgiri/Developer/computer-club/automation-workshop/venv/bin/python -m pip install --upgrade pip' command.\u001b[0m\n",
      "Note: you may need to restart the kernel to use updated packages.\n",
      "Requirement already satisfied: pillow in /Users/gauravgiri/Developer/computer-club/automation-workshop/venv/lib/python3.9/site-packages (10.3.0)\n",
      "\u001b[33mWARNING: You are using pip version 21.2.4; however, version 24.0 is available.\n",
      "You should consider upgrading via the '/Users/gauravgiri/Developer/computer-club/automation-workshop/venv/bin/python -m pip install --upgrade pip' command.\u001b[0m\n",
      "Note: you may need to restart the kernel to use updated packages.\n"
     ]
    }
   ],
   "source": [
    "%pip install pyautogui\n",
    "%pip install -U pyscreeze\n",
    "%pip install -U pillow"
   ]
  },
  {
   "cell_type": "code",
   "execution_count": 1,
   "metadata": {},
   "outputs": [],
   "source": [
    "import pyautogui\n",
    "import time"
   ]
  },
  {
   "cell_type": "code",
   "execution_count": 2,
   "metadata": {},
   "outputs": [
    {
     "name": "stdout",
     "output_type": "stream",
     "text": [
      "The size of the display: Size(width=1710, height=1112)\n",
      "Current position of mouse:Point(x=1009, y=641)\n"
     ]
    }
   ],
   "source": [
    "time.sleep(3)\n",
    "print(f\"The size of the display: {pyautogui.size()}\")\n",
    "print(f\"Current position of mouse:{pyautogui.position()}\")\n"
   ]
  }
 ],
 "metadata": {
  "kernelspec": {
   "display_name": "Python 3",
   "language": "python",
   "name": "python3"
  },
  "language_info": {
   "codemirror_mode": {
    "name": "ipython",
    "version": 3
   },
   "file_extension": ".py",
   "mimetype": "text/x-python",
   "name": "python",
   "nbconvert_exporter": "python",
   "pygments_lexer": "ipython3",
   "version": "3.9.6"
  }
 },
 "nbformat": 4,
 "nbformat_minor": 2
}
